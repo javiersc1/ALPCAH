{
 "cells": [
  {
   "cell_type": "code",
   "execution_count": 1,
   "metadata": {},
   "outputs": [],
   "source": [
    "import numpy as np\n",
    "import pandas as pd\n",
    "import matplotlib.pyplot as plt\n",
    "from scipy import spatial\n",
    "from collections import defaultdict\n",
    "import random\n",
    "import pickle\n",
    "from datetime import datetime, timedelta\n",
    "\n",
    "import os\n",
    "import sys\n",
    "from datetime import datetime\n",
    "from os.path import expanduser\n",
    "import urllib\n",
    "import json"
   ]
  },
  {
   "cell_type": "code",
   "execution_count": 2,
   "metadata": {},
   "outputs": [],
   "source": [
    "API_KEY = \"96602008-3701-466F-982E-7F022DFDBBAD\"\n",
    "\n",
    "## Set the longitude/latitude coordinates of the sensor area\n",
    "min_lon = -123.948\n",
    "max_lon = -119.246\n",
    "min_lat = 35.853\n",
    "max_lat = 39.724\n",
    "BBox = ((min_lon, max_lon,      \n",
    "        min_lat, max_lat))\n",
    "\n",
    "## Set dates and times over collected data:\n",
    "start_date = \"2021-02-09\"\n",
    "start_hour = \"0\"\n",
    "end_date = \"2021-02-13\"\n",
    "end_hour = \"23\"\n",
    "\n",
    "year = int(end_date[0:4])\n",
    "month = int(end_date[5:7])\n",
    "day = int(end_date[8:])"
   ]
  },
  {
   "cell_type": "code",
   "execution_count": 3,
   "metadata": {},
   "outputs": [
    {
     "name": "stdout",
     "output_type": "stream",
     "text": [
      "Requesting AirNowAPI data...\n",
      "Download URL: https://airnowapi.org/aq/data/?startdate=2021-02-09t0&enddate=2021-02-13t23&parameters=pm25&bbox=-123.948,35.853,-119.246,39.724&datatype=a&format=json&api_key=96602008-3701-466F-982E-7F022DFDBBAD\n",
      "Download File: /home/javier/AirNowAPI_20230720150734.json\n"
     ]
    }
   ],
   "source": [
    "# API parameters\n",
    "options = {}\n",
    "options[\"url\"] = \"https://airnowapi.org/aq/data/\"\n",
    "options[\"start_date\"] = start_date\n",
    "options[\"start_hour_utc\"] = start_hour\n",
    "options[\"end_date\"] = end_date\n",
    "options[\"end_hour_utc\"] = end_hour\n",
    "options[\"parameters\"] = \"pm25\"\n",
    "options[\"bbox\"] = str(min_lon) + \",\" + str(min_lat) + \",\" + str(max_lon) + \",\" + str(max_lat)\n",
    "options[\"data_type\"] = \"a\"\n",
    "options[\"format\"] = \"json\"\n",
    "options[\"ext\"] = \"json\"\n",
    "options[\"api_key\"] = API_KEY\n",
    "\n",
    "# API request URL\n",
    "REQUEST_URL = options[\"url\"] \\\n",
    "              + \"?startdate=\" + options[\"start_date\"] \\\n",
    "              + \"t\" + options[\"start_hour_utc\"] \\\n",
    "              + \"&enddate=\" + options[\"end_date\"] \\\n",
    "              + \"t\" + options[\"end_hour_utc\"] \\\n",
    "              + \"&parameters=\" + options[\"parameters\"] \\\n",
    "              + \"&bbox=\" + options[\"bbox\"] \\\n",
    "              + \"&datatype=\" + options[\"data_type\"] \\\n",
    "              + \"&format=\" + options[\"format\"] \\\n",
    "              + \"&api_key=\" + options[\"api_key\"]\n",
    "\n",
    "try:\n",
    "    # Request AirNowAPI data\n",
    "    print(\"Requesting AirNowAPI data...\")\n",
    "\n",
    "    # User's home directory.\n",
    "    home_dir = expanduser(\"~\")\n",
    "    download_file_name = \"AirNowAPI\" + datetime.now().strftime(\"_%Y%M%d%H%M%S.\" + options[\"ext\"])\n",
    "    download_file = os.path.join(home_dir, download_file_name)\n",
    "\n",
    "    # Perform the AirNow API data request\n",
    "#     api_data = urllib.URLopener()\n",
    "#     api_data = urllib.request.urlopen(REQUEST_URL)\n",
    "#     api_data.retrieve(REQUEST_URL, download_file)\n",
    "\n",
    "    response = urllib.request.urlopen(REQUEST_URL)\n",
    "\n",
    "    data = json.loads(response.read())\n",
    "\n",
    "#     data = api_data.read()\n",
    "\n",
    "    # Download complete\n",
    "    print(\"Download URL: %s\" % REQUEST_URL)\n",
    "    print(\"Download File: %s\" % download_file)\n",
    "\n",
    "except Exception as e:\n",
    "    print(\"Unable perform AirNowAPI request. %s\" % e)\n",
    "    sys.exit(1)"
   ]
  },
  {
   "cell_type": "code",
   "execution_count": 4,
   "metadata": {},
   "outputs": [
    {
     "name": "stdout",
     "output_type": "stream",
     "text": [
      "Number of AirNow Sensors: 63\n"
     ]
    }
   ],
   "source": [
    "### Filter for unique long/lat coordinates\n",
    "data_lat = []\n",
    "data_lon = []\n",
    "for sensor in data:\n",
    "    data_lat.append(sensor['Latitude'])\n",
    "    data_lon.append(sensor['Longitude'])\n",
    "    \n",
    "airnow_sensors = []\n",
    "for item in zip(data_lon,data_lat):\n",
    "    if(item not in airnow_sensors):\n",
    "        airnow_sensors.append(item)\n",
    "\n",
    "d = len(airnow_sensors)\n",
    "print(\"Number of AirNow Sensors: \" + str(d))\n",
    "\n",
    "airnow_lon = []\n",
    "airnow_lat = []\n",
    "for sensor in airnow_sensors:\n",
    "    airnow_lon.append(sensor[0])\n",
    "    airnow_lat.append(sensor[1])"
   ]
  },
  {
   "cell_type": "code",
   "execution_count": 5,
   "metadata": {},
   "outputs": [],
   "source": [
    "from pyairnow.conv import aqi_to_concentration, concentration_to_aqi"
   ]
  },
  {
   "cell_type": "markdown",
   "metadata": {},
   "source": [
    "#### AirNow matrix"
   ]
  },
  {
   "cell_type": "code",
   "execution_count": 7,
   "metadata": {},
   "outputs": [],
   "source": [
    "time_record = defaultdict(list)      ## make dictionary of all time keys to keep time\n",
    "airnow_data_dict = defaultdict(list) ## make dictionary hashed by (AirNow sensor coordinates x time) keys\n",
    "for entry in data:\n",
    "    airnow_key = (entry['Longitude'],entry['Latitude'])\n",
    "    time_key = entry['UTC']\n",
    "    if(time_key not in time_record):\n",
    "        time_record[time_key]\n",
    "    airnow_data_dict[(airnow_key,time_key)] = entry['AQI']"
   ]
  },
  {
   "cell_type": "code",
   "execution_count": 8,
   "metadata": {},
   "outputs": [],
   "source": [
    "output_airnow_data = np.zeros((len(time_record),len(airnow_sensors))) ### memory allocate array\n",
    "for (i,airnow_key) in enumerate(airnow_sensors):\n",
    "    for t,time_key in enumerate(time_record):\n",
    "        if(not airnow_data_dict[(airnow_key,time_key)]):\n",
    "            output_airnow_data[t,i] = np.nan\n",
    "        else:\n",
    "            output_airnow_data[t,i] = airnow_data_dict[(airnow_key,time_key)]"
   ]
  },
  {
   "cell_type": "code",
   "execution_count": 9,
   "metadata": {},
   "outputs": [
    {
     "data": {
      "text/plain": [
       "(120, 63)"
      ]
     },
     "execution_count": 9,
     "metadata": {},
     "output_type": "execute_result"
    }
   ],
   "source": [
    "output_airnow_data.shape"
   ]
  },
  {
   "cell_type": "code",
   "execution_count": 10,
   "metadata": {},
   "outputs": [],
   "source": [
    "### Eliminate any sensor columns with mostly missing entries (10% of entries are missing)\n",
    "removed_idx = []\n",
    "removed_sensors = []\n",
    "for (i,sensor) in enumerate(airnow_sensors):\n",
    "    if(sum(np.isnan(output_airnow_data[:,i])) > len(time_record)*0.1):\n",
    "        removed_idx.append(i)\n",
    "        removed_sensors.append(sensor)\n",
    "\n",
    "        \n",
    "output_airnow_data = np.delete(output_airnow_data, removed_idx, axis=1)\n",
    "\n",
    "for sensor in removed_sensors:\n",
    "    airnow_sensors.remove(sensor)\n"
   ]
  },
  {
   "cell_type": "code",
   "execution_count": 12,
   "metadata": {},
   "outputs": [],
   "source": [
    "# (rows, cols) = output_airnow_data.shape\n",
    "# airMatrix = np.zeros([rows,cols])\n",
    "# for i in range(rows):\n",
    "#     for j in range(cols):\n",
    "#         try:\n",
    "#             airMatrix[i,j] = aqi_to_concentration(output_airnow_data[i,j], 'PM2.5')\n",
    "#         except:\n",
    "#             airMatrix[i,j] = np.nan"
   ]
  },
  {
   "cell_type": "code",
   "execution_count": 13,
   "metadata": {},
   "outputs": [],
   "source": [
    "np.save(\"airMatrix.npy\",airMatrix)"
   ]
  }
 ],
 "metadata": {
  "@webio": {
   "lastCommId": null,
   "lastKernelId": null
  },
  "kernelspec": {
   "display_name": "Python 3 (ipykernel)",
   "language": "python",
   "name": "python3"
  },
  "language_info": {
   "codemirror_mode": {
    "name": "ipython",
    "version": 3
   },
   "file_extension": ".py",
   "mimetype": "text/x-python",
   "name": "python",
   "nbconvert_exporter": "python",
   "pygments_lexer": "ipython3",
   "version": "3.12.0"
  }
 },
 "nbformat": 4,
 "nbformat_minor": 4
}
