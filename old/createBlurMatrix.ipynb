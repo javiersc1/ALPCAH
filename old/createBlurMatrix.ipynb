{
 "cells": [
  {
   "cell_type": "code",
   "execution_count": 36,
   "id": "7b43e819-f91d-4cda-88f7-e2abaa5e9ef6",
   "metadata": {},
   "outputs": [],
   "source": [
    "using LinearAlgebra\n",
    "using Images\n",
    "len = round(Int,192*168/16)\n",
    "A = zeros(len, len);"
   ]
  },
  {
   "cell_type": "code",
   "execution_count": 37,
   "id": "8e331817-c568-409b-9553-f04337a7fee3",
   "metadata": {},
   "outputs": [],
   "source": [
    "eMatrix = Diagonal(ones(len));"
   ]
  },
  {
   "cell_type": "code",
   "execution_count": 38,
   "id": "fe5abcfe-1181-40c4-a0f0-87f595e3c183",
   "metadata": {},
   "outputs": [
    {
     "data": {
      "text/plain": [
       "blur (generic function with 1 method)"
      ]
     },
     "execution_count": 38,
     "metadata": {},
     "output_type": "execute_result"
    }
   ],
   "source": [
    "function blur(x)\n",
    "    x_reshape = reshape(x,48,42)\n",
    "    output = vec(imfilter(x_reshape, 0.25 .* ones(2,2)))\n",
    "    return output\n",
    "end\n",
    "    "
   ]
  },
  {
   "cell_type": "code",
   "execution_count": 39,
   "id": "e428c895-5745-4848-8a8a-ad43221aa870",
   "metadata": {
    "tags": []
   },
   "outputs": [],
   "source": [
    "count = 1\n",
    "for i = 1:len\n",
    "    for j = 1:len\n",
    "        #println(count/(len*len))\n",
    "        #flush(stdout)\n",
    "        A[i,j] = eMatrix[i,:]*blur(eMatrix[:,j])\n",
    "    end\n",
    "end"
   ]
  },
  {
   "cell_type": "code",
   "execution_count": 40,
   "id": "059a7aa1-574a-4af9-a4f9-8ea9921a0f10",
   "metadata": {},
   "outputs": [
    {
     "data": {
      "text/plain": [
       "2016×2016 Matrix{Float64}:\n",
       " 0.25  0.25  0.0   0.0   0.0   0.0   …  0.0  0.0  0.0  0.0  0.0  0.0  0.0\n",
       " 0.0   0.25  0.25  0.0   0.0   0.0      0.0  0.0  0.0  0.0  0.0  0.0  0.0\n",
       " 0.0   0.0   0.25  0.25  0.0   0.0      0.0  0.0  0.0  0.0  0.0  0.0  0.0\n",
       " 0.0   0.0   0.0   0.25  0.25  0.0      0.0  0.0  0.0  0.0  0.0  0.0  0.0\n",
       " 0.0   0.0   0.0   0.0   0.25  0.25     0.0  0.0  0.0  0.0  0.0  0.0  0.0\n",
       " 0.0   0.0   0.0   0.0   0.0   0.25  …  0.0  0.0  0.0  0.0  0.0  0.0  0.0\n",
       " 0.0   0.0   0.0   0.0   0.0   0.0      0.0  0.0  0.0  0.0  0.0  0.0  0.0\n",
       " 0.0   0.0   0.0   0.0   0.0   0.0      0.0  0.0  0.0  0.0  0.0  0.0  0.0\n",
       " 0.0   0.0   0.0   0.0   0.0   0.0      0.0  0.0  0.0  0.0  0.0  0.0  0.0\n",
       " 0.0   0.0   0.0   0.0   0.0   0.0      0.0  0.0  0.0  0.0  0.0  0.0  0.0\n",
       " 0.0   0.0   0.0   0.0   0.0   0.0   …  0.0  0.0  0.0  0.0  0.0  0.0  0.0\n",
       " 0.0   0.0   0.0   0.0   0.0   0.0      0.0  0.0  0.0  0.0  0.0  0.0  0.0\n",
       " 0.0   0.0   0.0   0.0   0.0   0.0      0.0  0.0  0.0  0.0  0.0  0.0  0.0\n",
       " ⋮                             ⋮     ⋱       ⋮                        ⋮\n",
       " 0.0   0.0   0.0   0.0   0.0   0.0      0.0  0.0  0.0  0.0  0.0  0.0  0.0\n",
       " 0.0   0.0   0.0   0.0   0.0   0.0   …  0.0  0.0  0.0  0.0  0.0  0.0  0.0\n",
       " 0.0   0.0   0.0   0.0   0.0   0.0      0.0  0.0  0.0  0.0  0.0  0.0  0.0\n",
       " 0.0   0.0   0.0   0.0   0.0   0.0      0.0  0.0  0.0  0.0  0.0  0.0  0.0\n",
       " 0.0   0.0   0.0   0.0   0.0   0.0      0.5  0.0  0.0  0.0  0.0  0.0  0.0\n",
       " 0.0   0.0   0.0   0.0   0.0   0.0      0.5  0.5  0.0  0.0  0.0  0.0  0.0\n",
       " 0.0   0.0   0.0   0.0   0.0   0.0   …  0.0  0.5  0.5  0.0  0.0  0.0  0.0\n",
       " 0.0   0.0   0.0   0.0   0.0   0.0      0.0  0.0  0.5  0.5  0.0  0.0  0.0\n",
       " 0.0   0.0   0.0   0.0   0.0   0.0      0.0  0.0  0.0  0.5  0.5  0.0  0.0\n",
       " 0.0   0.0   0.0   0.0   0.0   0.0      0.0  0.0  0.0  0.0  0.5  0.5  0.0\n",
       " 0.0   0.0   0.0   0.0   0.0   0.0      0.0  0.0  0.0  0.0  0.0  0.5  0.5\n",
       " 0.0   0.0   0.0   0.0   0.0   0.0   …  0.0  0.0  0.0  0.0  0.0  0.0  1.0"
      ]
     },
     "execution_count": 40,
     "metadata": {},
     "output_type": "execute_result"
    }
   ],
   "source": [
    "A"
   ]
  },
  {
   "cell_type": "code",
   "execution_count": 41,
   "id": "0096f1a2-ab63-4a0b-a0e3-3a428def275d",
   "metadata": {},
   "outputs": [],
   "source": [
    "using JLD\n",
    "save(\"blurMatrix.jld\", \"blurMatrix\", A)"
   ]
  },
  {
   "cell_type": "code",
   "execution_count": 47,
   "id": "aa958006-b18c-49ee-ab50-da5b940e0313",
   "metadata": {},
   "outputs": [
    {
     "data": {
      "text/plain": [
       "4"
      ]
     },
     "execution_count": 47,
     "metadata": {},
     "output_type": "execute_result"
    }
   ],
   "source": [
    "sum(blur(eMatrix[:,500]) .!= 0)"
   ]
  },
  {
   "cell_type": "code",
   "execution_count": null,
   "id": "d1b65a1c-e694-4b3f-8693-2080d43c49fe",
   "metadata": {},
   "outputs": [],
   "source": []
  }
 ],
 "metadata": {
  "kernelspec": {
   "display_name": "Julia 1.7.2",
   "language": "julia",
   "name": "julia-1.7"
  },
  "language_info": {
   "file_extension": ".jl",
   "mimetype": "application/julia",
   "name": "julia",
   "version": "1.7.2"
  }
 },
 "nbformat": 4,
 "nbformat_minor": 5
}
