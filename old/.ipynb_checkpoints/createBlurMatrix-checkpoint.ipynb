{
 "cells": [
  {
   "cell_type": "code",
   "execution_count": 18,
   "id": "7b43e819-f91d-4cda-88f7-e2abaa5e9ef6",
   "metadata": {},
   "outputs": [],
   "source": [
    "using LinearAlgebra\n",
    "using Images\n",
    "len = round(Int,192*168/16)\n",
    "A = zeros(len, len);"
   ]
  },
  {
   "cell_type": "code",
   "execution_count": 7,
   "id": "8e331817-c568-409b-9553-f04337a7fee3",
   "metadata": {},
   "outputs": [],
   "source": [
    "eMatrix = Diagonal(ones(len));"
   ]
  },
  {
   "cell_type": "code",
   "execution_count": 19,
   "id": "fe5abcfe-1181-40c4-a0f0-87f595e3c183",
   "metadata": {},
   "outputs": [
    {
     "data": {
      "text/plain": [
       "blur (generic function with 1 method)"
      ]
     },
     "execution_count": 19,
     "metadata": {},
     "output_type": "execute_result"
    }
   ],
   "source": [
    "function blur(x)\n",
    "    x_reshape = reshape(x,48,42)\n",
    "    output = vec(imfilter(x_reshape, 0.25 .* ones(4,4)))\n",
    "    return output\n",
    "end\n",
    "    "
   ]
  },
  {
   "cell_type": "code",
   "execution_count": null,
   "id": "e428c895-5745-4848-8a8a-ad43221aa870",
   "metadata": {},
   "outputs": [],
   "source": [
    "for i = 1:len\n",
    "    for j = 1:len\n",
    "        A[i,j] = eMatrix[:,i]'*blur(eMatrix[:,j])\n",
    "    end\n",
    "end"
   ]
  }
 ],
 "metadata": {
  "kernelspec": {
   "display_name": "Julia 1.7.2",
   "language": "julia",
   "name": "julia-1.7"
  },
  "language_info": {
   "file_extension": ".jl",
   "mimetype": "application/julia",
   "name": "julia",
   "version": "1.7.2"
  }
 },
 "nbformat": 4,
 "nbformat_minor": 5
}
