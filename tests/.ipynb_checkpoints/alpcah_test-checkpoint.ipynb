{
 "cells": [
  {
   "cell_type": "code",
   "execution_count": 3,
   "id": "238fba78-9f1d-4e1e-921e-fd3edcad8319",
   "metadata": {
    "tags": []
   },
   "outputs": [],
   "source": [
    "include(\"../helperFunctions.jl\");\n",
    "include(\"../alpcah.jl\")\n",
    "using BenchmarkTools\n",
    "using HePPCAT\n",
    "using LinearAlgebra"
   ]
  },
  {
   "cell_type": "code",
   "execution_count": 4,
   "id": "df302d7e-4a91-4ad3-b822-0eee5376d743",
   "metadata": {
    "tags": []
   },
   "outputs": [],
   "source": [
    "D = 100;\n",
    "d = 10;\n",
    "v = [0.1, 100];\n",
    "N = [20, 490];\n",
    "U = generateSubspace(D, d)\n",
    "Y = generateData(U, v, N);\n",
    "varianceVector = vcat(v[1]*ones(N[1]), v[2]*ones(N[2]));"
   ]
  },
  {
   "cell_type": "code",
   "execution_count": 5,
   "id": "259e5cf8-4079-4cb7-a128-15bce0da37bd",
   "metadata": {
    "tags": []
   },
   "outputs": [
    {
     "data": {
      "text/plain": [
       "0.4625670374327324"
      ]
     },
     "execution_count": 5,
     "metadata": {},
     "output_type": "execute_result"
    }
   ],
   "source": [
    "using HePPCAT\n",
    "YL = [];\n",
    "for i = 1:size(Y)[2]\n",
    "    push!(YL,Y[:,i])\n",
    "end\n",
    "res = heppcat(YL,d,1000)\n",
    "U_HEPPCAT = svd(res.F).U[:,1:d];\n",
    "affinityError(U,U_HEPPCAT)"
   ]
  },
  {
   "cell_type": "code",
   "execution_count": 25,
   "id": "f717818b-6865-44a9-9566-846883587ec2",
   "metadata": {},
   "outputs": [
    {
     "data": {
      "text/plain": [
       "0.5105453370181829"
      ]
     },
     "execution_count": 25,
     "metadata": {},
     "output_type": "execute_result"
    }
   ],
   "source": [
    "U_test,X_test,v_test = ALPCAH(Y, d; methodType=:ALPCAH_ADMM, alpcahIter= 1000, apgdIter = 5, λr=20, μ=0.25, ρ=1.0)\n",
    "affinityError(U,U_test)"
   ]
  },
  {
   "cell_type": "code",
   "execution_count": null,
   "id": "96c71a10-435d-4d04-b7ac-9e6bd5117445",
   "metadata": {},
   "outputs": [],
   "source": []
  }
 ],
 "metadata": {
  "kernelspec": {
   "display_name": "Julia (31 threads) 1.9.0",
   "language": "julia",
   "name": "julia-_31-threads_-1.9"
  },
  "language_info": {
   "file_extension": ".jl",
   "mimetype": "application/julia",
   "name": "julia",
   "version": "1.9.0"
  }
 },
 "nbformat": 4,
 "nbformat_minor": 5
}
