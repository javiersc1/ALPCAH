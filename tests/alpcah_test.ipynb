{
 "cells": [
  {
   "cell_type": "code",
   "execution_count": 3,
   "id": "238fba78-9f1d-4e1e-921e-fd3edcad8319",
   "metadata": {
    "tags": []
   },
   "outputs": [],
   "source": [
    "include(\"../helperFunctions.jl\");\n",
    "include(\"../alpcah.jl\")\n",
    "using BenchmarkTools\n",
    "using HePPCAT\n",
    "using LinearAlgebra"
   ]
  },
  {
   "cell_type": "code",
   "execution_count": 4,
   "id": "df302d7e-4a91-4ad3-b822-0eee5376d743",
   "metadata": {
    "tags": []
   },
   "outputs": [],
   "source": [
    "D = 100;\n",
    "d = 10;\n",
    "v = [0.1, 100];\n",
    "N = [20, 490];\n",
    "U = generateSubspace(D, d)\n",
    "Y = generateData(U, v, N);\n",
    "varianceVector = vcat(v[1]*ones(N[1]), v[2]*ones(N[2]));"
   ]
  },
  {
   "cell_type": "code",
   "execution_count": 5,
   "id": "259e5cf8-4079-4cb7-a128-15bce0da37bd",
   "metadata": {
    "tags": []
   },
   "outputs": [
    {
     "data": {
      "text/plain": [
       "0.4625670374327324"
      ]
     },
     "execution_count": 5,
     "metadata": {},
     "output_type": "execute_result"
    }
   ],
   "source": [
    "using HePPCAT\n",
    "YL = [];\n",
    "for i = 1:size(Y)[2]\n",
    "    push!(YL,Y[:,i])\n",
    "end\n",
    "res = heppcat(YL,d,1000)\n",
    "U_HEPPCAT = svd(res.F).U[:,1:d];\n",
    "affinityError(U,U_HEPPCAT)"
   ]
  },
  {
   "cell_type": "code",
   "execution_count": 25,
   "id": "f717818b-6865-44a9-9566-846883587ec2",
   "metadata": {},
   "outputs": [
    {
     "data": {
      "text/plain": [
       "0.5105453370181829"
      ]
     },
     "execution_count": 25,
     "metadata": {},
     "output_type": "execute_result"
    }
   ],
   "source": [
    "U_test,X_test,v_test = ALPCAH(Y, d; methodType=:ALPCAH_ADMM, alpcahIter= 1000, apgdIter = 5, λr=20, μ=0.25, ρ=1.0)\n",
    "affinityError(U,U_test)"
   ]
  },
  {
   "cell_type": "code",
   "execution_count": null,
   "id": "96c71a10-435d-4d04-b7ac-9e6bd5117445",
   "metadata": {},
   "outputs": [],
   "source": [
    "xogm, _ = pogm_restart(X0, (x) -> 0, f_grad_smooth_local, f_L_smooth_local;mom = :pogm, niter=iter, fun=fun_nuclear, f_mu=0.01);"
   ]
  },
  {
   "cell_type": "code",
   "execution_count": null,
   "id": "db41c206-f53c-40ed-8212-6cfa963e78a6",
   "metadata": {},
   "outputs": [],
   "source": [
    "function smoothALPCAH(Y::Matrix, rank::Int, λr::Real; alpcahIter::Int = 200, apgdIter::Int = 5, varianceMethod::Symbol = :groupless, varfloor::Real=1e-9)\n",
    "    D, N = size(Y)\n",
    "    v = zeros(N)\n",
    "    # Krylov-based Lanczos Algorithm\n",
    "    U = tsvd(Y, rank)[1]\n",
    "    X = U*U'*Y\n",
    "    #variance method initialization\n",
    "    if varianceMethod === :groupless\n",
    "        v = grouplessVarianceUpdate(Y, X; varfloor=varfloor)\n",
    "    else\n",
    "        #v = groupedVarianceUpdate(Y, L*R' ; varfloor=varfloor)\n",
    "    end\n",
    "    Π = v.^-1\n",
    "    Lf = maximum(Π)\n",
    "    Π = Diagonal(Π)\n",
    "    X = zeros(size(Y)) # weirdly necessary to get lower error\n",
    "    grad = K -> -1*(Y-K)*Π\n",
    "    #alpha = LinRange(0.0, λr, alpcahIter)\n",
    "    for i=1:alpcahIter\n",
    "        # apgd\n",
    "        g_prox = (z,c) -> TSVT(z, c*λr, rank) # TSVT(z, c*alpha[i], rank)\n",
    "        X, _ = pogm_restart(X, x -> 0, grad, Lf ; mom=:fpgm, g_prox, niter=apgdIter);\n",
    "        # variance updates\n",
    "        if varianceMethod === :groupless\n",
    "            v = grouplessVarianceUpdate(Y, X; varfloor=varfloor)\n",
    "        else\n",
    "            #v = groupedVarianceUpdate(Y, L*R' ; varfloor=varfloor)\n",
    "        end\n",
    "        Π = v.^-1\n",
    "        Lf = maximum(Π)\n",
    "        Π = Diagonal(Π)\n",
    "    end\n",
    "    # extract left vectors from X\n",
    "    U = tsvd(X, rank)[1]\n",
    "    return U\n",
    "end"
   ]
  }
 ],
 "metadata": {
  "kernelspec": {
   "display_name": "Julia (15 threads) 1.9.3",
   "language": "julia",
   "name": "julia-_15-threads_-1.9"
  },
  "language_info": {
   "file_extension": ".jl",
   "mimetype": "application/julia",
   "name": "julia",
   "version": "1.9.3"
  }
 },
 "nbformat": 4,
 "nbformat_minor": 5
}
